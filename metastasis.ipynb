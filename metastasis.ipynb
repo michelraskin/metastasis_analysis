{
 "cells": [
  {
   "cell_type": "code",
   "execution_count": null,
   "metadata": {},
   "outputs": [],
   "source": [
    "import pandas as pd\n",
    "import os\n",
    "from collections import defaultdict\n",
    "import networkx as nx\n",
    "from itertools import combinations\n",
    "import numpy as np\n",
    "import matplotlib.pyplot as plt\n"
   ]
  },
  {
   "cell_type": "code",
   "execution_count": null,
   "metadata": {},
   "outputs": [],
   "source": [
    "myDf = pd.read_csv('/Users/mraskin/Downloads/msk_met_2021_clinical_data.tsv', sep='\\t')"
   ]
  },
  {
   "cell_type": "code",
   "execution_count": null,
   "metadata": {},
   "outputs": [],
   "source": [
    "myDf.columns"
   ]
  },
  {
   "cell_type": "code",
   "execution_count": null,
   "metadata": {},
   "outputs": [],
   "source": [
    "myDf.columns = ['_'.join(x.lower().split(' ')) for x in myDf.columns]"
   ]
  },
  {
   "cell_type": "code",
   "execution_count": null,
   "metadata": {},
   "outputs": [],
   "source": [
    "myDf.columns"
   ]
  },
  {
   "cell_type": "code",
   "execution_count": null,
   "metadata": {},
   "outputs": [],
   "source": [
    "myDf.subtype_abbreviation.unique()"
   ]
  },
  {
   "cell_type": "code",
   "execution_count": null,
   "metadata": {},
   "outputs": [],
   "source": [
    "myDf.columns"
   ]
  },
  {
   "cell_type": "code",
   "execution_count": null,
   "metadata": {},
   "outputs": [],
   "source": [
    "myDf.cancer_type.value_counts()"
   ]
  },
  {
   "cell_type": "code",
   "execution_count": null,
   "metadata": {},
   "outputs": [],
   "source": [
    "myDf = myDf[myDf.cancer_type.isin(myDf.cancer_type.value_counts().iloc[0:10].index)]"
   ]
  },
  {
   "cell_type": "code",
   "execution_count": null,
   "metadata": {},
   "outputs": [],
   "source": [
    "myDf"
   ]
  },
  {
   "cell_type": "code",
   "execution_count": null,
   "metadata": {},
   "outputs": [],
   "source": [
    "met_cols = [col for col in myDf.columns if col.startswith(\"distant_mets:_\")]"
   ]
  },
  {
   "cell_type": "code",
   "execution_count": null,
   "metadata": {},
   "outputs": [],
   "source": [
    "len(met_cols)"
   ]
  },
  {
   "cell_type": "code",
   "execution_count": null,
   "metadata": {},
   "outputs": [],
   "source": [
    "myDf[met_cols] = (myDf[met_cols] == \"Yes\").astype(int)"
   ]
  },
  {
   "cell_type": "code",
   "execution_count": null,
   "metadata": {},
   "outputs": [],
   "source": [
    "new_met_cols = [x.split(':_')[-1] for x in met_cols]\n",
    "myDf[new_met_cols] = myDf[met_cols]"
   ]
  },
  {
   "cell_type": "code",
   "execution_count": null,
   "metadata": {},
   "outputs": [],
   "source": [
    "def get_transition_probs(num_metastasis):\n",
    "    df_melted = myDf[(myDf.sample_type == \"Primary\") & (myDf.met_count == num_metastasis)].melt(\n",
    "        id_vars=[\"patient_id\", \"cancer_type\", \"metastatic_site\"],\n",
    "        value_vars=new_met_cols,\n",
    "        var_name=\"metastatic_site_dist\",\n",
    "        value_name=\"Present\"\n",
    "    )\n",
    "\n",
    "    df_melted = df_melted[df_melted[\"Present\"] == 1]\n",
    "\n",
    "    contingency = pd.crosstab(index=[df_melted['cancer_type']], columns=df_melted[\"metastatic_site_dist\"])\n",
    "    # contingency\n",
    "    transition_probs_3 = contingency.div(contingency.sum(axis=1), axis=0)\n",
    "    myCancerTypes = contingency.T.sum()\n",
    "    if transition_probs_3.shape[1] == 21:\n",
    "        norm = transition_probs_3.values\n",
    "        norm_T = norm.T / np.sum(norm, axis=1)\n",
    "        return norm_T, myCancerTypes\n",
    "    return None, myCancerTypes"
   ]
  },
  {
   "cell_type": "code",
   "execution_count": null,
   "metadata": {},
   "outputs": [],
   "source": [
    "transition_probs_1, _ = get_transition_probs(1)"
   ]
  },
  {
   "cell_type": "code",
   "execution_count": null,
   "metadata": {},
   "outputs": [],
   "source": [
    "transition_probs_2, _ = get_transition_probs(2)"
   ]
  },
  {
   "cell_type": "code",
   "execution_count": 3040,
   "metadata": {},
   "outputs": [],
   "source": [
    "def get_expected_prob_dist(num_metastasis, j):\n",
    "    P_direct = transition_probs_1.T\n",
    "    C, residuals, rank, s = np.linalg.lstsq((1-j)*P_direct, transition_probs_2.T - j * P_direct, rcond=None)\n",
    "    C = C.clip(0.1, 0.9)\n",
    "    C = C.T / C.sum(axis=1)\n",
    "    P_n = P_direct\n",
    "    for i in range(2, num_metastasis+1):\n",
    "        C_new = np.linalg.matrix_power(C, i-1)\n",
    "        P_branching = C_new @ P_n.T\n",
    "        P_n = j * P_n + (1-j) * P_branching.T\n",
    "    return P_n.T, P_direct"
   ]
  },
  {
   "cell_type": "code",
   "execution_count": 3041,
   "metadata": {},
   "outputs": [
    {
     "name": "stdout",
     "output_type": "stream",
     "text": [
      "{(0.0, 11, 'Hepatobiliary Cancer', 8): (9.84, 0.97)}\n",
      "{(0.1, 11, 'Hepatobiliary Cancer', 8): (9.85, 0.97)}\n",
      "{(0.2, 11, 'Hepatobiliary Cancer', 8): (9.87, 0.97)}\n",
      "{(0.3, 11, 'Hepatobiliary Cancer', 8): (9.94, 0.97)}\n",
      "{(0.4, 11, 'Hepatobiliary Cancer', 8): (10.07, 0.97)}\n",
      "{(0.5, 11, 'Hepatobiliary Cancer', 8): (10.22, 0.96)}\n",
      "{(0.6, 11, 'Hepatobiliary Cancer', 8): (10.27, 0.96)}\n",
      "{(0.7, 11, 'Hepatobiliary Cancer', 8): (10.23, 0.96)}\n",
      "{(0.8, 11, 'Hepatobiliary Cancer', 8): (10.32, 0.96)}\n"
     ]
    }
   ],
   "source": [
    "import numpy as np\n",
    "from scipy.stats import chisquare\n",
    "\n",
    "chi2_results = {}\n",
    "j = 2\n",
    "for j in range(0, 10):\n",
    "    for c in range(10):\n",
    "        for i in range(3, 12):\n",
    "            P_n_T, P_direct = get_expected_prob_dist(i, j * 0.1)\n",
    "            norm_T, myCancerTypes = get_transition_probs(i)\n",
    "            if norm_T is not None:\n",
    "                observed_counts = norm_T * myCancerTypes.to_numpy()\n",
    "                expected_counts = P_n_T* myCancerTypes.to_numpy()\n",
    "                    \n",
    "                obs = observed_counts[:, c].flatten()\n",
    "                exp = expected_counts[:, c].flatten()\n",
    "                chi2, pval = chisquare(obs+1e-10, f_exp=exp+1e-10)\n",
    "                if pval > 0.95:\n",
    "                    print({\n",
    "                        (round(j * 0.1,2), i, myCancerTypes.reset_index().iloc[c].cancer_type, myCancerTypes.iloc[c]):\n",
    "                        (round(chi2, 2), round(pval, 2))\n",
    "                    })\n",
    "            else:\n",
    "                print(f'Not Computing {i}')"
   ]
  },
  {
   "cell_type": "code",
   "execution_count": null,
   "metadata": {},
   "outputs": [
    {
     "name": "stdout",
     "output_type": "stream",
     "text": [
      "i=3, cancer_index=Bladder Cancer, best_j=0.6, chi2=115.46, pval=0.000\n",
      "i=4, cancer_index=Bladder Cancer, best_j=0.6, chi2=169.74, pval=0.000\n",
      "i=5, cancer_index=Bladder Cancer, best_j=0.6, chi2=97.66, pval=0.000\n",
      "i=6, cancer_index=Bladder Cancer, best_j=0.6, chi2=115.57, pval=0.000\n",
      "i=7, cancer_index=Bladder Cancer, best_j=0.7, chi2=57.96, pval=0.000\n",
      "i=8, cancer_index=Bladder Cancer, best_j=0.7, chi2=69.23, pval=0.000\n",
      "i=9, cancer_index=Bladder Cancer, best_j=0.0, chi2=31.92, pval=0.044\n",
      "i=10, cancer_index=Bladder Cancer, best_j=0.1, chi2=66.14, pval=0.000\n",
      "i=11, cancer_index=Bladder Cancer, best_j=0.2, chi2=14.01, pval=0.830\n",
      "i=3, cancer_index=Breast Cancer, best_j=0.6, chi2=197.09, pval=0.000\n",
      "i=4, cancer_index=Breast Cancer, best_j=0.5, chi2=180.93, pval=0.000\n",
      "i=5, cancer_index=Breast Cancer, best_j=0.0, chi2=208.92, pval=0.000\n",
      "i=6, cancer_index=Breast Cancer, best_j=0.0, chi2=170.92, pval=0.000\n",
      "i=7, cancer_index=Breast Cancer, best_j=0.7, chi2=141.27, pval=0.000\n",
      "i=8, cancer_index=Breast Cancer, best_j=0.0, chi2=157.95, pval=0.000\n",
      "i=9, cancer_index=Breast Cancer, best_j=0.0, chi2=123.74, pval=0.000\n",
      "i=10, cancer_index=Breast Cancer, best_j=0.0, chi2=80.11, pval=0.000\n",
      "i=11, cancer_index=Breast Cancer, best_j=0.0, chi2=65.81, pval=0.000\n",
      "i=3, cancer_index=Colorectal Cancer, best_j=0.6, chi2=679.98, pval=0.000\n",
      "i=4, cancer_index=Colorectal Cancer, best_j=0.7, chi2=647.91, pval=0.000\n",
      "i=5, cancer_index=Colorectal Cancer, best_j=0.7, chi2=627.57, pval=0.000\n",
      "i=6, cancer_index=Colorectal Cancer, best_j=0.7, chi2=500.55, pval=0.000\n",
      "i=7, cancer_index=Colorectal Cancer, best_j=0.7, chi2=319.93, pval=0.000\n",
      "i=8, cancer_index=Colorectal Cancer, best_j=0.0, chi2=234.44, pval=0.000\n",
      "i=9, cancer_index=Colorectal Cancer, best_j=0.0, chi2=137.45, pval=0.000\n",
      "i=10, cancer_index=Colorectal Cancer, best_j=0.0, chi2=133.04, pval=0.000\n",
      "i=11, cancer_index=Colorectal Cancer, best_j=0.0, chi2=63.10, pval=0.000\n",
      "i=3, cancer_index=Endometrial Cancer, best_j=0.8, chi2=65.60, pval=0.000\n",
      "i=4, cancer_index=Endometrial Cancer, best_j=0.8, chi2=99.66, pval=0.000\n",
      "i=5, cancer_index=Endometrial Cancer, best_j=0.8, chi2=115.84, pval=0.000\n",
      "i=6, cancer_index=Endometrial Cancer, best_j=0.8, chi2=93.05, pval=0.000\n",
      "i=7, cancer_index=Endometrial Cancer, best_j=0.8, chi2=118.25, pval=0.000\n",
      "i=8, cancer_index=Endometrial Cancer, best_j=0.8, chi2=88.14, pval=0.000\n",
      "i=9, cancer_index=Endometrial Cancer, best_j=0.8, chi2=81.41, pval=0.000\n",
      "i=10, cancer_index=Endometrial Cancer, best_j=0.8, chi2=48.78, pval=0.000\n",
      "i=11, cancer_index=Endometrial Cancer, best_j=0.8, chi2=39.08, pval=0.007\n",
      "i=3, cancer_index=Hepatobiliary Cancer, best_j=0.8, chi2=119.28, pval=0.000\n",
      "i=4, cancer_index=Hepatobiliary Cancer, best_j=0.7, chi2=139.83, pval=0.000\n",
      "i=5, cancer_index=Hepatobiliary Cancer, best_j=0.8, chi2=142.12, pval=0.000\n",
      "i=6, cancer_index=Hepatobiliary Cancer, best_j=0.8, chi2=115.24, pval=0.000\n",
      "i=7, cancer_index=Hepatobiliary Cancer, best_j=0.8, chi2=63.11, pval=0.000\n",
      "i=8, cancer_index=Hepatobiliary Cancer, best_j=0.0, chi2=52.41, pval=0.000\n",
      "i=9, cancer_index=Hepatobiliary Cancer, best_j=0.8, chi2=39.75, pval=0.005\n",
      "i=10, cancer_index=Hepatobiliary Cancer, best_j=0.0, chi2=36.39, pval=0.014\n",
      "i=11, cancer_index=Hepatobiliary Cancer, best_j=0.0, chi2=9.84, pval=0.971\n",
      "i=3, cancer_index=Melanoma, best_j=0.5, chi2=61.81, pval=0.000\n",
      "i=4, cancer_index=Melanoma, best_j=0.7, chi2=29.95, pval=0.071\n",
      "i=5, cancer_index=Melanoma, best_j=0.6, chi2=65.74, pval=0.000\n",
      "i=6, cancer_index=Melanoma, best_j=0.7, chi2=37.81, pval=0.009\n",
      "i=7, cancer_index=Melanoma, best_j=0.6, chi2=35.90, pval=0.016\n",
      "i=8, cancer_index=Melanoma, best_j=0.0, chi2=32.89, pval=0.035\n",
      "i=9, cancer_index=Melanoma, best_j=0.0, chi2=13.28, pval=0.865\n",
      "i=10, cancer_index=Melanoma, best_j=0.0, chi2=24.90, pval=0.205\n",
      "i=11, cancer_index=Melanoma, best_j=0.0, chi2=12.06, pval=0.914\n",
      "i=3, cancer_index=Non-Small Cell Lung Cancer, best_j=0.9, chi2=385.28, pval=0.000\n",
      "i=4, cancer_index=Non-Small Cell Lung Cancer, best_j=0.8, chi2=428.17, pval=0.000\n",
      "i=5, cancer_index=Non-Small Cell Lung Cancer, best_j=0.8, chi2=575.44, pval=0.000\n",
      "i=6, cancer_index=Non-Small Cell Lung Cancer, best_j=0.9, chi2=448.41, pval=0.000\n",
      "i=7, cancer_index=Non-Small Cell Lung Cancer, best_j=0.8, chi2=389.68, pval=0.000\n",
      "i=8, cancer_index=Non-Small Cell Lung Cancer, best_j=0.8, chi2=378.74, pval=0.000\n",
      "i=9, cancer_index=Non-Small Cell Lung Cancer, best_j=0.9, chi2=249.02, pval=0.000\n",
      "i=10, cancer_index=Non-Small Cell Lung Cancer, best_j=0.9, chi2=218.72, pval=0.000\n",
      "i=11, cancer_index=Non-Small Cell Lung Cancer, best_j=0.9, chi2=162.81, pval=0.000\n",
      "i=3, cancer_index=Ovarian Cancer, best_j=0.8, chi2=22.66, pval=0.306\n",
      "i=4, cancer_index=Ovarian Cancer, best_j=0.8, chi2=42.38, pval=0.002\n",
      "i=5, cancer_index=Ovarian Cancer, best_j=0.8, chi2=76.84, pval=0.000\n",
      "i=6, cancer_index=Ovarian Cancer, best_j=0.8, chi2=67.99, pval=0.000\n",
      "i=7, cancer_index=Ovarian Cancer, best_j=0.8, chi2=112.49, pval=0.000\n",
      "i=8, cancer_index=Ovarian Cancer, best_j=0.8, chi2=106.82, pval=0.000\n",
      "i=9, cancer_index=Ovarian Cancer, best_j=0.8, chi2=147.41, pval=0.000\n",
      "i=10, cancer_index=Ovarian Cancer, best_j=0.8, chi2=51.63, pval=0.000\n",
      "i=11, cancer_index=Ovarian Cancer, best_j=0.8, chi2=50.51, pval=0.000\n",
      "i=3, cancer_index=Pancreatic Cancer, best_j=0.7, chi2=321.52, pval=0.000\n",
      "i=4, cancer_index=Pancreatic Cancer, best_j=0.7, chi2=358.32, pval=0.000\n",
      "i=5, cancer_index=Pancreatic Cancer, best_j=0.7, chi2=246.42, pval=0.000\n",
      "i=6, cancer_index=Pancreatic Cancer, best_j=0.7, chi2=178.74, pval=0.000\n",
      "i=7, cancer_index=Pancreatic Cancer, best_j=0.7, chi2=191.32, pval=0.000\n",
      "i=8, cancer_index=Pancreatic Cancer, best_j=0.8, chi2=152.25, pval=0.000\n",
      "i=9, cancer_index=Pancreatic Cancer, best_j=0.0, chi2=82.96, pval=0.000\n",
      "i=10, cancer_index=Pancreatic Cancer, best_j=0.1, chi2=41.75, pval=0.003\n",
      "i=11, cancer_index=Pancreatic Cancer, best_j=0.0, chi2=38.63, pval=0.007\n",
      "i=3, cancer_index=Prostate Cancer, best_j=0.7, chi2=272.82, pval=0.000\n",
      "i=4, cancer_index=Prostate Cancer, best_j=0.8, chi2=171.75, pval=0.000\n",
      "i=5, cancer_index=Prostate Cancer, best_j=0.7, chi2=179.92, pval=0.000\n",
      "i=6, cancer_index=Prostate Cancer, best_j=0.8, chi2=101.04, pval=0.000\n",
      "i=7, cancer_index=Prostate Cancer, best_j=0.8, chi2=98.71, pval=0.000\n",
      "i=8, cancer_index=Prostate Cancer, best_j=0.8, chi2=65.65, pval=0.000\n",
      "i=9, cancer_index=Prostate Cancer, best_j=0.0, chi2=51.73, pval=0.000\n",
      "i=10, cancer_index=Prostate Cancer, best_j=0.1, chi2=40.51, pval=0.004\n",
      "i=11, cancer_index=Prostate Cancer, best_j=0.2, chi2=24.59, pval=0.218\n"
     ]
    }
   ],
   "source": [
    "import numpy as np\n",
    "from scipy.stats import chisquare\n",
    "\n",
    "best_results = {}  # keys: (i, c), values: (best_j, chi2, pval)\n",
    "\n",
    "for j in range(10):\n",
    "    j_val = j * 0.1\n",
    "    for c in range(10):\n",
    "        for i in range(3, 12):\n",
    "            P_n_T, P_direct = get_expected_prob_dist(i, j_val)\n",
    "            norm_T, myCancerTypes = get_transition_probs(i)\n",
    "            \n",
    "            if norm_T is not None:\n",
    "                observed_counts = norm_T * myCancerTypes.to_numpy()\n",
    "                expected_counts = P_n_T * myCancerTypes.to_numpy()\n",
    "\n",
    "                obs = observed_counts[:, c].flatten()\n",
    "                exp = expected_counts[:, c].flatten()\n",
    "\n",
    "                chi2, pval = chisquare(obs + 1e-10, f_exp=exp + 1e-10)\n",
    "\n",
    "                key = (i, myCancerTypes.index[c])\n",
    "                if key not in best_results or pval > best_results[key][2]:\n",
    "                    best_results[key] = (j_val, chi2, pval)\n",
    "            else:\n",
    "                pass\n",
    "\n",
    "for (i, c), (best_j, chi2, pval) in best_results.items():\n",
    "    print(f\"i={i}, cancer_index={c}, best_j={best_j:.1f}, chi2={chi2:.2f}, pval={pval:.3f}\")"
   ]
  },
  {
   "cell_type": "code",
   "execution_count": 3037,
   "metadata": {},
   "outputs": [
    {
     "name": "stdout",
     "output_type": "stream",
     "text": [
      "Cancer type: Bladder Cancer, best j: 0.7, average of p-values: 0.0693\n",
      "Cancer type: Breast Cancer, best j: 0.8, average of p-values: 0.0000\n",
      "Cancer type: Colorectal Cancer, best j: 0.7, average of p-values: 0.0000\n",
      "Cancer type: Endometrial Cancer, best j: 0.8, average of p-values: 0.0005\n",
      "Cancer type: Hepatobiliary Cancer, best j: 0.8, average of p-values: 0.1050\n",
      "Cancer type: Melanoma, best j: 0.7, average of p-values: 0.0934\n",
      "Cancer type: Non-Small Cell Lung Cancer, best j: 0.9, average of p-values: 0.0000\n",
      "Cancer type: Ovarian Cancer, best j: 0.9, average of p-values: 0.0343\n",
      "Cancer type: Pancreatic Cancer, best j: 0.8, average of p-values: 0.0001\n",
      "Cancer type: Prostate Cancer, best j: 0.5, average of p-values: 0.0355\n"
     ]
    }
   ],
   "source": [
    "from scipy.stats import chisquare\n",
    "import numpy as np\n",
    "\n",
    "pval_sums = {}\n",
    "for j in range(0, 10):\n",
    "    for i in range(3, 12):\n",
    "        P_n_T, P_direct = get_expected_prob_dist(i, j * 0.1)\n",
    "        norm_T, myCancerTypes = get_transition_probs(i)\n",
    "        if norm_T is not None:\n",
    "            observed_counts = norm_T * myCancerTypes.to_numpy()\n",
    "            expected_counts = P_n_T * myCancerTypes.to_numpy()\n",
    "            for c in range(10):\n",
    "                obs = observed_counts[:, c].flatten()\n",
    "                exp = expected_counts[:, c].flatten()\n",
    "\n",
    "                chi2, pval = chisquare(obs+1e-10, f_exp=exp+1e-10)\n",
    "\n",
    "                cancer_type = myCancerTypes.reset_index().iloc[c].cancer_type\n",
    "\n",
    "                if cancer_type not in pval_sums:\n",
    "                    pval_sums[cancer_type] = {}\n",
    "                if j not in pval_sums[cancer_type]:\n",
    "                    pval_sums[cancer_type][j] = 0\n",
    "                pval_sums[cancer_type][j] += pval\n",
    "        else:\n",
    "            print(f'Not Computing {i}')\n",
    "\n",
    "for cancer_type, j_dict in pval_sums.items():\n",
    "    best_j = max(j_dict, key=j_dict.get)\n",
    "    best_pval_sum = j_dict[best_j]\n",
    "    print(f\"Cancer type: {cancer_type}, best j: {best_j * 0.1:.1f}, average of p-values: {best_pval_sum / len(range(3, 12)):.4f}\")"
   ]
  },
  {
   "cell_type": "code",
   "execution_count": 3008,
   "metadata": {},
   "outputs": [
    {
     "name": "stdout",
     "output_type": "stream",
     "text": [
      "Cancer type: Bladder Cancer, best j: 0.60, global p-value: 2.067e-70\n",
      "Cancer type: Breast Cancer, best j: 0.60, global p-value: 4.159e-203\n",
      "Cancer type: Colorectal Cancer, best j: 0.00, global p-value: 0\n",
      "Cancer type: Endometrial Cancer, best j: 0.80, global p-value: 1.652e-69\n",
      "Cancer type: Hepatobiliary Cancer, best j: 0.80, global p-value: 2.392e-70\n",
      "Cancer type: Melanoma, best j: 0.60, global p-value: 1.441e-09\n",
      "Cancer type: Non-Small Cell Lung Cancer, best j: 0.00, global p-value: 0\n",
      "Cancer type: Ovarian Cancer, best j: 0.80, global p-value: 3.672e-55\n",
      "Cancer type: Pancreatic Cancer, best j: 0.70, global p-value: 1.658e-232\n",
      "Cancer type: Prostate Cancer, best j: 0.70, global p-value: 1.018e-121\n"
     ]
    }
   ],
   "source": [
    "from scipy.stats import chisquare, chi2\n",
    "\n",
    "cancer_j_stats = {}\n",
    "for j in range(0, 10):\n",
    "    for i in range(3, 12):\n",
    "        P_n_T, P_direct = get_expected_prob_dist(i, j * 0.1)\n",
    "        norm_T, myCancerTypes = get_transition_probs(i)\n",
    "        if norm_T is not None:\n",
    "            observed_counts = norm_T * myCancerTypes.to_numpy()\n",
    "            expected_counts = P_n_T * myCancerTypes.to_numpy()\n",
    "            for c in range(10):\n",
    "                obs = observed_counts[:, c].flatten()\n",
    "                exp = expected_counts[:, c].flatten()\n",
    "\n",
    "                obs_adj = obs+1e-10\n",
    "                exp_adj = exp+1e-10\n",
    "\n",
    "                chi2_stat, pval = chisquare(obs_adj, f_exp=exp_adj)\n",
    "                df = len(obs_adj)\n",
    "\n",
    "                cancer_type = myCancerTypes.reset_index().iloc[c].cancer_type\n",
    "\n",
    "                if cancer_type not in cancer_j_stats:\n",
    "                    cancer_j_stats[cancer_type] = {}\n",
    "                if j not in cancer_j_stats[cancer_type]:\n",
    "                    cancer_j_stats[cancer_type][j] = [0, 0]\n",
    "\n",
    "                cancer_j_stats[cancer_type][j][0] += chi2_stat\n",
    "                cancer_j_stats[cancer_type][j][1] += df-1\n",
    "        else:\n",
    "            print(f'Not Computing {i}')\n",
    "\n",
    "best_j_per_cancer = {}\n",
    "for cancer_type, j_dict in cancer_j_stats.items():\n",
    "    best_pval = -1\n",
    "    best_j = None\n",
    "    for j, (sum_chi2, sum_df) in j_dict.items():\n",
    "        global_pval = chi2.sf(sum_chi2, sum_df)\n",
    "        if global_pval > best_pval:\n",
    "            best_pval = global_pval\n",
    "            best_j = j\n",
    "    best_j_per_cancer[cancer_type] = (best_j * 0.1, best_pval)\n",
    "\n",
    "for cancer_type, (best_j_val, pval) in best_j_per_cancer.items():\n",
    "    print(f\"Cancer type: {cancer_type}, best j: {best_j_val:.2f}, global p-value: {pval:.4g}\")"
   ]
  },
  {
   "cell_type": "code",
   "execution_count": null,
   "metadata": {},
   "outputs": [],
   "source": []
  },
  {
   "cell_type": "code",
   "execution_count": null,
   "metadata": {},
   "outputs": [],
   "source": []
  }
 ],
 "metadata": {
  "kernelspec": {
   "display_name": "base",
   "language": "python",
   "name": "python3"
  },
  "language_info": {
   "codemirror_mode": {
    "name": "ipython",
    "version": 3
   },
   "file_extension": ".py",
   "mimetype": "text/x-python",
   "name": "python",
   "nbconvert_exporter": "python",
   "pygments_lexer": "ipython3",
   "version": "3.12.4"
  }
 },
 "nbformat": 4,
 "nbformat_minor": 2
}
